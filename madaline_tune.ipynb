{
 "cells": [
  {
   "cell_type": "code",
   "execution_count": 1,
   "metadata": {},
   "outputs": [],
   "source": [
    "import numpy as np\n",
    "\n"
   ]
  },
  {
   "cell_type": "code",
   "execution_count": 2,
   "metadata": {},
   "outputs": [
    {
     "name": "stdout",
     "output_type": "stream",
     "text": [
      "Enter the number of Inputs: \n",
      "3\n",
      "Enter the number of nodes in hidden layers: \n",
      "2\n",
      "\n",
      "Enter the number of nodes in hidden layer  1\n",
      "3\n",
      "Enter the number of nodes in hidden layer  2\n",
      "4\n",
      "[[0.062 0.659 0.667]\n",
      " [0.874 0.384 0.764]\n",
      " [0.303 0.009 0.052]]\n",
      "\n",
      "[[0.071 0.801 0.889]\n",
      " [0.865 0.613 0.614]\n",
      " [0.011 0.681 0.435]\n",
      " [0.143 0.276 0.298]]\n",
      "\n",
      "\n",
      "Final Output:\n",
      "[[0.771]\n",
      " [0.017]\n",
      " [0.243]\n",
      " [0.613]\n",
      " [0.796]]\n",
      "\n"
     ]
    }
   ],
   "source": [
    "class Madaline(object):\n",
    "    def __init__(self,ni,nh):\n",
    "        self.no_of_inputs= ni\n",
    "        self_no_of_hidden_layers = nh\n",
    "        self.learning_rate = 0.5\n",
    "        \n",
    "        self.X = np.array([[1, 1, 1, -1], [1, 1, -1, 1], [1, -1, 1, 1], [1, -1, -1, -1]], dtype = float)\n",
    "        \n",
    "        #number of nodes in each hidden layer 'nodes_hidden[]'\n",
    "        self.nodes_hidden= [] \n",
    "        for i in range(nh):\n",
    "            print(\"Enter the number of nodes in hidden layer \", i+1)\n",
    "            self.nodes_hidden.append(int(input()))\n",
    "        #print(self.nodes_hidden)\n",
    "        \n",
    "        # Weights from Input to first hidden layer\n",
    "        self.Wih = np.random.rand(self.no_of_inputs, self.nodes_hidden[0])\n",
    "        self.Wih = np.around(self.Wih, decimals = 3)\n",
    "        print(self.Wih)\n",
    "        \n",
    "        print(\"\")\n",
    "        \n",
    "        #Weights from hidden to hidden layers\n",
    "        \n",
    "        self.Whh = []\n",
    "        for i in range(nh-1):\n",
    "            a = []\n",
    "            for rows in range(self.nodes_hidden[i+1]):\n",
    "                b = []\n",
    "                for cols in range(self.nodes_hidden[i]):\n",
    "                    b.append(float(np.random.random()))\n",
    "                a.append(b)\n",
    "            self.Whh.append(a)\n",
    "        \n",
    "        for i in range(nh-1):\n",
    "            self.Whh[i] = np.around(self.Whh[i], decimals = 3)\n",
    "            print(self.Whh[i])\n",
    "        \n",
    "        \n",
    "        #Weights from last hidden layer to the output layer\n",
    "        print(\"\")\n",
    "        \n",
    "        # np.random.rand : generates floating point random number b/w 0 and 1\n",
    "        self.V = np.random.rand(self.nodes_hidden[nh-1]+1, 1)\n",
    "        self.V = np.around(self.V, decimals = 3)\n",
    "        \n",
    "        print(\"\")\n",
    "        print(\"Final Output:\")\n",
    "        print(self.V)\n",
    "        print(\"\")\n",
    "        \n",
    "        \n",
    "\n",
    "print(\"Enter the number of Inputs: \")\n",
    "ni = int(input())\n",
    "print(\"Enter the number of nodes in hidden layers: \")\n",
    "nh = int(input())    \n",
    "print(\"\")\n",
    "M =Madaline(ni, nh)\n",
    "                                    \n",
    "        "
   ]
  },
  {
   "cell_type": "code",
   "execution_count": null,
   "metadata": {},
   "outputs": [],
   "source": []
  }
 ],
 "metadata": {
  "kernelspec": {
   "display_name": "Python 3",
   "language": "python",
   "name": "python3"
  },
  "language_info": {
   "codemirror_mode": {
    "name": "ipython",
    "version": 3
   },
   "file_extension": ".py",
   "mimetype": "text/x-python",
   "name": "python",
   "nbconvert_exporter": "python",
   "pygments_lexer": "ipython3",
   "version": "3.8.3"
  }
 },
 "nbformat": 4,
 "nbformat_minor": 2
}
